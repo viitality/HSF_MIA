{
 "cells": [
  {
   "cell_type": "code",
   "execution_count": 1,
   "source": [
    "import cv2\n",
    "import numpy as np"
   ],
   "outputs": [],
   "metadata": {}
  },
  {
   "cell_type": "code",
   "execution_count": 2,
   "source": [
    "first_image=cv2.imread('57 FLUO_bis.png')\n",
    "second_image=cv2.imread('57RD-PAS_bis.png')\n",
    "second_image_resize= cv2.resize(second_image, (first_image.shape[1], first_image.shape[0]))\n",
    "\n",
    "#print(first_image.shape)\n",
    "#print(second_image_resize.shape)\n",
    "x1= 2698.80\n",
    "y1= 1569.10\n",
    "x2= 3417.70\n",
    "y2= 6610.11\n",
    "x3= 5155.81\n",
    "y3= 4264.00\n",
    "x4= 848.90\n",
    "y4= 3918.20\n",
    "\n",
    "\n",
    "\n",
    "x5= 2670.81\n",
    "y5= 1191.88\n",
    "x6= 3516.82\n",
    "y6= 5808.42\n",
    "x7= 5236.18\n",
    "y7= 3018.24\n",
    "x8= 939.98\n",
    "y8= 3540.52\n",
    "anchor_points_first = np.array([[x1, y1], [x2, y2], [x3, y3],[x4,y4]], dtype=np.float32)\n",
    "anchor_points_second = np.array([[x5, y5], [x6, y6], [x7, y7],[x8,y8]], dtype=np.float32)\n",
    "\n",
    "\n"
   ],
   "outputs": [],
   "metadata": {}
  },
  {
   "cell_type": "code",
   "execution_count": 3,
   "source": [
    "matrix = cv2.getPerspectiveTransform(anchor_points_second, anchor_points_first)\n",
    "image2_aligned = cv2.warpPerspective(second_image, matrix, (first_image.shape[1], first_image.shape[0]))\n",
    "\n",
    "cv2.imshow('Image 1', first_image)\n",
    "cv2.imshow('Image 2', second_image)\n",
    "cv2.imshow('Image 2 Alignée', image2_aligned)\n",
    "#cv2.imread('image.png',image2_aligned)\n",
    "cv2.waitKey(0)\n",
    "cv2.destroyAllWindows()"
   ],
   "outputs": [],
   "metadata": {}
  },
  {
   "cell_type": "code",
   "execution_count": null,
   "source": [],
   "outputs": [],
   "metadata": {}
  }
 ],
 "metadata": {
  "orig_nbformat": 4,
  "language_info": {
   "name": "python",
   "version": "3.9.13",
   "mimetype": "text/x-python",
   "codemirror_mode": {
    "name": "ipython",
    "version": 3
   },
   "pygments_lexer": "ipython3",
   "nbconvert_exporter": "python",
   "file_extension": ".py"
  },
  "kernelspec": {
   "name": "python3",
   "display_name": "Python 3.9.13 64-bit ('base': conda)"
  },
  "interpreter": {
   "hash": "dca0ade3e726a953b501b15e8e990130d2b7799f14cfd9f4271676035ebe5511"
  }
 },
 "nbformat": 4,
 "nbformat_minor": 2
}